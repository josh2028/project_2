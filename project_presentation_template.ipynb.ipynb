{
 "cells": [
  {
   "cell_type": "markdown",
   "id": "cc79e45d-8b2e-4b17-b8ae-370987169634",
   "metadata": {
    "editable": true,
    "slideshow": {
     "slide_type": ""
    },
    "tags": []
   },
   "source": [
    "# Project Title"
   ]
  },
  {
   "cell_type": "markdown",
   "id": "ef1a09ac-b9d4-4335-bbb0-cf7c8c900114",
   "metadata": {
    "editable": true,
    "slideshow": {
     "slide_type": ""
    },
    "tags": []
   },
   "source": [
    "#### Group Members"
   ]
  },
  {
   "cell_type": "markdown",
   "id": "301b435e-292d-4f28-b75f-5ca8bb05cb11",
   "metadata": {
    "editable": true,
    "slideshow": {
     "slide_type": ""
    },
    "tags": []
   },
   "source": [
    "### 1. Introduction"
   ]
  },
  {
   "cell_type": "markdown",
   "id": "ce5184c7-709d-4fe1-9521-a5d9f1718d62",
   "metadata": {
    "editable": true,
    "slideshow": {
     "slide_type": ""
    },
    "tags": []
   },
   "source": [
    "Provide a brief overview of your project here (1 paragraph)\n",
    "\n",
    "We love horror, so we decided to explore Elliott O’Donnell’s books. We know a little bit more about him because of project one, but we want to learn more about his legacy. We think his writing may have more negative connotations compared to other horror novels before his time. He often uses his personal ghost-hunting experiences, which might make his stories feel less active by inciting the use of negative and possibly aggressive tones."
   ]
  },
  {
   "cell_type": "markdown",
   "id": "9bf81a4e-0a9d-45bf-af08-c08a873275dc",
   "metadata": {
    "editable": true,
    "slideshow": {
     "slide_type": ""
    },
    "tags": []
   },
   "source": [
    "### 2. Hypothesis"
   ]
  },
  {
   "cell_type": "markdown",
   "id": "10fd47a5-bc03-40ec-a245-403c6a270d6b",
   "metadata": {
    "editable": true,
    "slideshow": {
     "slide_type": ""
    },
    "tags": []
   },
   "source": [
    "Explain your expected findings. What do you think the map of your data will look like and why? (2-3 sentences)\n",
    "\n",
    "We wonder if he was as influential to modern horror as other authors from his era. O’Donnell might not be as famous today, but his works were popular back then and could have influenced many writers. We also believe that O’Donnell’s writings might be scarier and have more negative emotions and connotations than other popular horror writers before him due to the idea that he may have had inspiration from those authors."
   ]
  },
  {
   "cell_type": "markdown",
   "id": "2bb52ad2-ba39-4cab-943f-9c3ea69afeae",
   "metadata": {
    "editable": true,
    "slideshow": {
     "slide_type": ""
    },
    "tags": []
   },
   "source": [
    "### 3. Corpus Description"
   ]
  },
  {
   "cell_type": "markdown",
   "id": "93477763-f8c3-4411-a37b-3e325577ee12",
   "metadata": {
    "editable": true,
    "slideshow": {
     "slide_type": ""
    },
    "tags": []
   },
   "source": [
    "Describe the body of texts you wanted to get and why. You should explain the total number of texts you ended up with and the various parameters you used to filter out data. Describe why you filtered out that particular data. (1 paragraph)\n",
    "\n",
    "\n",
    "We have two corpora. One containing the works of Elliot O'Donnell's 11 works. The other consists of Horror stories about, ghosts, spirits, or paranormal before Elliots O'Donnell's time dating as far back as 1812 with Charles Dickens, this corpus contained around 200 works. We limited the horror story data to those who covered similar subjects, to eliminate some independence, as well as limiting it to those who were born before him, leaving us with those who wrote about horror who are older than O’Donnell. Keeping these corpora separate allows us to visualize their sentiment data more easily."
   ]
  },
  {
   "cell_type": "code",
   "execution_count": 6,
   "id": "601b1c08-5de8-4809-82ed-a71800456373",
   "metadata": {
    "collapsed": true,
    "jupyter": {
     "outputs_hidden": true
    }
   },
   "outputs": [
    {
     "ename": "NameError",
     "evalue": "name 'pg_catalog_clean' is not defined",
     "output_type": "error",
     "traceback": [
      "\u001b[1;31m---------------------------------------------------------------------------\u001b[0m",
      "\u001b[1;31mNameError\u001b[0m                                 Traceback (most recent call last)",
      "Cell \u001b[1;32mIn[6], line 2\u001b[0m\n\u001b[0;32m      1\u001b[0m \u001b[38;5;66;03m#This is for O'Donnell\u001b[39;00m\n\u001b[1;32m----> 2\u001b[0m df_odonnell\u001b[38;5;241m=\u001b[39m pg_catalog_clean[\n\u001b[0;32m      3\u001b[0m     (pg_catalog_clean\u001b[38;5;241m.\u001b[39mlast_name \u001b[38;5;241m==\u001b[39m \u001b[38;5;124m'\u001b[39m\u001b[38;5;124mO\u001b[39m\u001b[38;5;130;01m\\'\u001b[39;00m\u001b[38;5;124mDonnell\u001b[39m\u001b[38;5;124m'\u001b[39m) \u001b[38;5;241m&\u001b[39m\n\u001b[0;32m      4\u001b[0m     (pg_catalog_clean\u001b[38;5;241m.\u001b[39mfirst_name \u001b[38;5;241m==\u001b[39m \u001b[38;5;124m'\u001b[39m\u001b[38;5;124mElliott\u001b[39m\u001b[38;5;124m'\u001b[39m)]\u001b[38;5;241m.\u001b[39mcopy()\n",
      "\u001b[1;31mNameError\u001b[0m: name 'pg_catalog_clean' is not defined"
     ]
    }
   ],
   "source": [
    "#This is for O'Donnell\n",
    "df_odonnell= pg_catalog_clean[\n",
    "    (pg_catalog_clean.last_name == 'O\\'Donnell') &\n",
    "    (pg_catalog_clean.first_name == 'Elliott')].copy()"
   ]
  },
  {
   "cell_type": "code",
   "execution_count": 27,
   "id": "69ffb0d1-ddd8-4042-ac27-1c862f34d7ad",
   "metadata": {
    "editable": true,
    "slideshow": {
     "slide_type": ""
    },
    "tags": []
   },
   "outputs": [],
   "source": [
    "#This is for corpus 2\n",
    "pg_catalog_clean = pg_catalog_clean[\n",
    "  ((pg_catalog_clean.subjects.str.contains('Paranormal fiction')) |\n",
    "  (pg_catalog_clean.subjects.str.contains('Ghost stories'))|\n",
    "  (pg_catalog_clean.subjects.str.contains('Spirits' ))) &\n",
    "  (pg_catalog_clean.birth < 1871) \n",
    "].copy()\n",
    "pg_catalog_clean"
   ]
  },
  {
   "cell_type": "code",
   "execution_count": 9,
   "id": "b47da515-aedb-47fb-a03e-8f64967fb7e4",
   "metadata": {
    "collapsed": true,
    "editable": true,
    "jupyter": {
     "outputs_hidden": true
    },
    "scrolled": true,
    "slideshow": {
     "slide_type": ""
    },
    "tags": []
   },
   "outputs": [
    {
     "ename": "UnpicklingError",
     "evalue": "invalid load key, '\\xe2'.",
     "output_type": "error",
     "traceback": [
      "\u001b[1;31m---------------------------------------------------------------------------\u001b[0m",
      "\u001b[1;31mUnpicklingError\u001b[0m                           Traceback (most recent call last)",
      "Cell \u001b[1;32mIn[9], line 3\u001b[0m\n\u001b[0;32m      1\u001b[0m \u001b[38;5;66;03m#Import the results and show a sample\u001b[39;00m\n\u001b[0;32m      2\u001b[0m \u001b[38;5;28;01mimport\u001b[39;00m \u001b[38;5;21;01mpandas\u001b[39;00m \u001b[38;5;28;01mas\u001b[39;00m \u001b[38;5;21;01mpd\u001b[39;00m\n\u001b[1;32m----> 3\u001b[0m odonnell \u001b[38;5;241m=\u001b[39m pd\u001b[38;5;241m.\u001b[39mread_pickle(\u001b[38;5;124m'\u001b[39m\u001b[38;5;124mdf_bfe_odonnell_TEXTS.pickle\u001b[39m\u001b[38;5;124m'\u001b[39m)\n\u001b[0;32m      4\u001b[0m YOUR_DATAFRAME_TEXTS\u001b[38;5;241m.\u001b[39msample(\u001b[38;5;241m5\u001b[39m)\n",
      "File \u001b[1;32m~\\anaconda3\\envs\\Pandas\\Lib\\site-packages\\pandas\\io\\pickle.py:202\u001b[0m, in \u001b[0;36mread_pickle\u001b[1;34m(filepath_or_buffer, compression, storage_options)\u001b[0m\n\u001b[0;32m    199\u001b[0m     \u001b[38;5;28;01mwith\u001b[39;00m warnings\u001b[38;5;241m.\u001b[39mcatch_warnings(record\u001b[38;5;241m=\u001b[39m\u001b[38;5;28;01mTrue\u001b[39;00m):\n\u001b[0;32m    200\u001b[0m         \u001b[38;5;66;03m# We want to silence any warnings about, e.g. moved modules.\u001b[39;00m\n\u001b[0;32m    201\u001b[0m         warnings\u001b[38;5;241m.\u001b[39msimplefilter(\u001b[38;5;124m\"\u001b[39m\u001b[38;5;124mignore\u001b[39m\u001b[38;5;124m\"\u001b[39m, \u001b[38;5;167;01mWarning\u001b[39;00m)\n\u001b[1;32m--> 202\u001b[0m         \u001b[38;5;28;01mreturn\u001b[39;00m pickle\u001b[38;5;241m.\u001b[39mload(handles\u001b[38;5;241m.\u001b[39mhandle)\n\u001b[0;32m    203\u001b[0m \u001b[38;5;28;01mexcept\u001b[39;00m excs_to_catch:\n\u001b[0;32m    204\u001b[0m     \u001b[38;5;66;03m# e.g.\u001b[39;00m\n\u001b[0;32m    205\u001b[0m     \u001b[38;5;66;03m#  \"No module named 'pandas.core.sparse.series'\"\u001b[39;00m\n\u001b[0;32m    206\u001b[0m     \u001b[38;5;66;03m#  \"Can't get attribute '__nat_unpickle' on <module 'pandas._libs.tslib\"\u001b[39;00m\n\u001b[0;32m    207\u001b[0m     \u001b[38;5;28;01mreturn\u001b[39;00m pc\u001b[38;5;241m.\u001b[39mload(handles\u001b[38;5;241m.\u001b[39mhandle, encoding\u001b[38;5;241m=\u001b[39m\u001b[38;5;28;01mNone\u001b[39;00m)\n",
      "\u001b[1;31mUnpicklingError\u001b[0m: invalid load key, '\\xe2'."
     ]
    }
   ],
   "source": [
    "#Import the results and show a sample\n",
    "import pandas as pd\n",
    "odonnell = pd.read_pickle('df_bfe_odonnell_TEXTS.pickle')\n",
    "YOUR_DATAFRAME_TEXTS.sample(5)"
   ]
  },
  {
   "cell_type": "markdown",
   "id": "46d94131-74ab-4513-8fb7-d4513c2cea53",
   "metadata": {
    "editable": true,
    "slideshow": {
     "slide_type": ""
    },
    "tags": []
   },
   "source": [
    "### 4. Geoparsing Results"
   ]
  },
  {
   "cell_type": "markdown",
   "id": "01502f0c-da94-4f1d-8b05-c5debac06bbd",
   "metadata": {
    "editable": true,
    "slideshow": {
     "slide_type": ""
    },
    "tags": []
   },
   "source": [
    "Describe how the geoparsing process went. Look through the data and see if there are false positives that remain. Explain how you would remove them in the future. (1-2 paragraphs)\n",
    "\n",
    "The geoparsing process was difficult considering that the code did not want to work, and it would take a very long time to load. A way that we removed false positives was by limiting the emotion value. We did this by making every result be greater than 3. This would leave only strong emotions on the map. Any false positives would have been removed. This method is great at removing false emotions as it requires one line of code and not much work. Another way to filter out false positives is by manually checking the sentences.\n",
    "\n",
    "We can do this by looking at the places in the stories and reading small samples. You would have to count the results that produce places and not empty brackets/brackets with None. Reading over the results, it seemed that there were not a lot of false positives.  It would confuse some places such as a cottage, The Kingsway, Hall, Personage, etc. While these are places, you cannot exactly pinpoint where these locations are which leads to false positives. "
   ]
  },
  {
   "cell_type": "code",
   "execution_count": 7,
   "id": "3bd327c0-d149-4e85-beaa-b52215bb6da9",
   "metadata": {
    "collapsed": true,
    "editable": true,
    "jupyter": {
     "outputs_hidden": true
    },
    "scrolled": true,
    "slideshow": {
     "slide_type": ""
    },
    "tags": []
   },
   "outputs": [
    {
     "ename": "NameError",
     "evalue": "name 'pd' is not defined",
     "output_type": "error",
     "traceback": [
      "\u001b[1;31m---------------------------------------------------------------------------\u001b[0m",
      "\u001b[1;31mNameError\u001b[0m                                 Traceback (most recent call last)",
      "Cell \u001b[1;32mIn[7], line 2\u001b[0m\n\u001b[0;32m      1\u001b[0m \u001b[38;5;66;03m#Import the results and show a sample\u001b[39;00m\n\u001b[1;32m----> 2\u001b[0m YOUR_DATAFRAME_PLACES \u001b[38;5;241m=\u001b[39m pd\u001b[38;5;241m.\u001b[39mread_pickle(\u001b[38;5;124m'\u001b[39m\u001b[38;5;124mdf_bfe_odonnell_PLACES.pickle\u001b[39m\u001b[38;5;124m'\u001b[39m)\n",
      "\u001b[1;31mNameError\u001b[0m: name 'pd' is not defined"
     ]
    }
   ],
   "source": [
    "#Import the results and show a sample\n",
    "YOUR_DATAFRAME_PLACES = pd.read_pickle('df_bfe_odonnell_PLACES.pickle')\n",
    "YOUR_DATAFRAME_PLACES.sample(5)"
   ]
  },
  {
   "cell_type": "markdown",
   "id": "29cfeb55-8b38-49a5-8a08-bd6f10bd0a87",
   "metadata": {
    "editable": true,
    "slideshow": {
     "slide_type": ""
    },
    "tags": []
   },
   "source": [
    "### 5. Sentiment Analysis Results\n"
   ]
  },
  {
   "cell_type": "markdown",
   "id": "ebdcf7ec-8ca7-41b2-a75f-8be85318f3c3",
   "metadata": {
    "editable": true,
    "slideshow": {
     "slide_type": ""
    },
    "tags": []
   },
   "source": [
    "Describe the sentiment analysis process. Look at the data and see if there are particular sentiment scores that stand out, either high scores or low scores. (1 paragraph)\n",
    "\n",
    "Data was collected from various works by other horror authors before Elliott O’Donnell. This raw data was cleaned and normalized to eliminate noise and irrelevant information. Using natural language processing techniques, each text was assigned a sentiment score on a scale from negative to positive. After scoring, the results were aggregated to identify trends, highlighting particularly high or low sentiment scores. For example, a high score indicates strong positive feelings, while a low score reflects strong negative feelings, helping readers grasp the intended emotions behind the text. \n",
    "\n",
    "In comparing sentiment scores, O'Donnell has a moderate sentiment profile, neither overwhelmingly positive nor negative. This contrasts with the high praise and divisive reactions often associated with earlier horror authors. This suggests that while O'Donnell is appreciated for his contributions to the genre, some criticism points to his writing as formulaic or lacking the psychological depth found in his predecessors, placing him in a more neutral sentiment than the more charged emotions often tied to other horror writers.\n"
   ]
  },
  {
   "cell_type": "code",
   "execution_count": 1,
   "id": "6a8c78ee-36fb-4532-8e2f-6dd1e2e54a4c",
   "metadata": {
    "editable": true,
    "slideshow": {
     "slide_type": ""
    },
    "tags": []
   },
   "outputs": [
    {
     "ename": "NameError",
     "evalue": "name 'pd' is not defined",
     "output_type": "error",
     "traceback": [
      "\u001b[1;31m---------------------------------------------------------------------------\u001b[0m",
      "\u001b[1;31mNameError\u001b[0m                                 Traceback (most recent call last)",
      "Cell \u001b[1;32mIn[1], line 2\u001b[0m\n\u001b[0;32m      1\u001b[0m \u001b[38;5;66;03m#Import the results and show a sample\u001b[39;00m\n\u001b[1;32m----> 2\u001b[0m YOUR_DATAFRAME_SENTIMENTS \u001b[38;5;241m=\u001b[39m pd\u001b[38;5;241m.\u001b[39mread_pickle(\u001b[38;5;124m'\u001b[39m\u001b[38;5;124mdf_bfe_odonnell_SENTIMENTS.pickle\u001b[39m\u001b[38;5;124m'\u001b[39m)\n\u001b[0;32m      3\u001b[0m YOUR_DATAFRAME_SENTIMENTS\u001b[38;5;241m.\u001b[39msample(\u001b[38;5;241m5\u001b[39m)\n",
      "\u001b[1;31mNameError\u001b[0m: name 'pd' is not defined"
     ]
    }
   ],
   "source": [
    "#Import the results and show a sample\n",
    "YOUR_DATAFRAME_SENTIMENTS = pd.read_pickle('df_bfe_odonnell_SENTIMENTS.pickle')\n",
    "YOUR_DATAFRAME_SENTIMENTS.sample(5)"
   ]
  },
  {
   "cell_type": "markdown",
   "id": "812a72fe-74a5-4586-a4f5-bb663a3b4e64",
   "metadata": {
    "editable": true,
    "slideshow": {
     "slide_type": ""
    },
    "tags": []
   },
   "source": [
    "### 6. Mapping"
   ]
  },
  {
   "cell_type": "markdown",
   "id": "1f0265dd-16c9-4511-b4c2-3a6b5175ef48",
   "metadata": {
    "editable": true,
    "slideshow": {
     "slide_type": ""
    },
    "tags": []
   },
   "source": [
    "Describe how you \"cleaned up\" the map and why. For example, you can explain:\n",
    "- If you decided to remove any results based on count\n",
    "- Filtered out particular types of locations\n",
    "- Modified the map colors\n",
    "- Modified the map zoom and center\n",
    "Does your map try to tell a particular story? If so, what is that story?\n",
    "\n",
    "(1-2 paragraphs)\n",
    "\n",
    "We focused on making the map more informative and visually appealing. We filtered the location count to greater than 3 to ensure more specific and relevant results.  This helped eliminate outliers and provide a clearer view of significant data points. We also changed the map colors to an \"ice and fire\" theme, which enhanced readability by using contrasting colors to differentiate between various data points.\n",
    "\n",
    "Additionally, we adjusted the map zoom and centered it to highlight areas of interest effectively. The story the map tells is one of diversity in writing styles. Odonnell stands out with a less neutral score compared to other artists, showcasing higher highs and lower lows. This suggests that Odonnell's writing is more emotionally intense and varied. Moreover, the scattered nature of Odonnell's data points implies a broader range of topics and themes explored in his work, setting him apart from his peers.\n"
   ]
  },
  {
   "cell_type": "code",
   "execution_count": null,
   "id": "4f557135-96ed-4f9c-9ec9-42108f8c63eb",
   "metadata": {
    "editable": true,
    "slideshow": {
     "slide_type": ""
    },
    "tags": []
   },
   "outputs": [],
   "source": [
    "import plotly.express as px\n",
    "#YOUR MAP CODE HERE\n",
    "\n",
    "fig = px.scatter_mapbox(\n",
    "    df_bfe_odonnell,  #put your dataframe here\n",
    "    lat=\"latitude\",               # Latitude column\n",
    "    lon=\"longitude\",              # Longitude column\n",
    "    size=\"location_count_bucket\",        # Bubble size based on location count\n",
    "    color=\"avg_roberta_compound\",      # Color based on sentiment score\n",
    "    color_continuous_scale=px.colors.cyclical.IceFire[::-1],  # Use Twilight scale (blue to red)\n",
    "    size_max=30,                  # Maximum size of the bubbles\n",
    "    center={\"lat\": 54, \"lon\": 0},\n",
    "    zoom=4.5                       # Adjust zoom level for better visibility\n",
    ")\n",
    "\n",
    "# Update the layout to use the default map style (which doesn't need a token)\n",
    "fig.update_layout(\n",
    "    mapbox_style=\"open-street-map\",  # No token needed for this style\n",
    "    margin={\"r\":0,\"t\":0,\"l\":0,\"b\":0}  # Remove margins for a cleaner view\n",
    ")\n",
    "\n",
    "\n",
    "\n",
    "fig.show()"
   ]
  },
  {
   "cell_type": "markdown",
   "id": "7f640001-9f90-4fe0-b8b9-c0657a64df40",
   "metadata": {
    "editable": true,
    "slideshow": {
     "slide_type": ""
    },
    "tags": []
   },
   "source": [
    "### 7. Reflection (Individual)\n",
    "\n",
    "Describe how the process of geoparsing and emotion tagging went. \n",
    "- What expectations did you have when you went into the processing and what was the actual result?\n",
    "- Do you feel that the process was succesful? \n",
    "- What were some stumbling blocks you faced when collecting and processing your data?\n",
    "- What is some \"garbage\" data that is still in your data set?\n",
    "- If you had more time, how would you refine the results?\n",
    "\n",
    "I figured Elliott O'Donnells works would be mostly negative since he had previous authors before him to review and perfect his horror abilities. However, after running the codes I now understand that O'Donnells works were more neutral because his stories were more basic, which means he did not have that horror effect in his stories as other authors. We all stumbled to run certain codes, even if someone else could and we still don't know why this issue occured. We tried a lot of different methods, including trying each other's codes and even going through old lessons to see if we were missing certain data packs. If I had more time to go through and process the data. We all could have found a way for everything to run smoothly and we could have redesigned the code to find authors before and after O'Donnell to get a deeper analysis of his works.\n",
    "  (1-2 paragraphs)"
   ]
  },
  {
   "cell_type": "code",
   "execution_count": null,
   "id": "0d0b83f6-14f3-4e3f-b27f-cbf7531a87b0",
   "metadata": {
    "editable": true,
    "slideshow": {
     "slide_type": ""
    },
    "tags": []
   },
   "outputs": [],
   "source": []
  }
 ],
 "metadata": {
  "kernelspec": {
   "display_name": "Python 3 (ipykernel)",
   "language": "python",
   "name": "python3"
  },
  "language_info": {
   "codemirror_mode": {
    "name": "ipython",
    "version": 3
   },
   "file_extension": ".py",
   "mimetype": "text/x-python",
   "name": "python",
   "nbconvert_exporter": "python",
   "pygments_lexer": "ipython3",
   "version": "3.12.7"
  }
 },
 "nbformat": 4,
 "nbformat_minor": 5
}
